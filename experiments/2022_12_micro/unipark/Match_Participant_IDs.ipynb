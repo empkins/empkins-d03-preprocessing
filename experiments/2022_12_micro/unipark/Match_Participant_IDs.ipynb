{
 "cells": [
  {
   "cell_type": "code",
   "execution_count": 3,
   "metadata": {},
   "outputs": [],
   "source": [
    "from empkins_io.datasets.d03.micro_gapvii import MicroBaseDataset \n",
    "\n",
    "import pandas as pd\n",
    "\n",
    "from pathlib import Path"
   ]
  },
  {
   "cell_type": "code",
   "execution_count": 4,
   "metadata": {},
   "outputs": [],
   "source": [
    "%load_ext autoreload\n",
    "%autoreload 2"
   ]
  },
  {
   "cell_type": "code",
   "execution_count": 5,
   "metadata": {},
   "outputs": [],
   "source": [
    "path_1 = Path(\"/Volumes/luca_ssd/Study_Data/2022_12_GAPVII_Micro/data_tabular/extras/raw/condition_list_micro1.0.xlsx\")\n",
    "path_11 = Path(\"/Volumes/luca_ssd/Study_Data/2022_12_GAPVII_Micro/data_tabular/extras/raw/condition_list_micro1_1.xlsx\")"
   ]
  },
  {
   "cell_type": "code",
   "execution_count": 7,
   "metadata": {},
   "outputs": [
    {
     "data": {
      "text/plain": [
       "subject\n",
       "VP_001    LI17P\n",
       "VP_002    IH30R\n",
       "VP_003    HB25M\n",
       "VP_004    SK29B\n",
       "VP_005    BK24I\n",
       "VP_006    AL16B\n",
       "VP_007    JH10N\n",
       "VP_008    SR19S\n",
       "VP_009    AJ10C\n",
       "VP_010    CV06A\n",
       "VP_011    IM11M\n",
       "VP_012    KH09D\n",
       "VP_013    OK04B\n",
       "VP_014    UW25H\n",
       "VP_015    FJ03U\n",
       "VP_016    MM18S\n",
       "VP_017    HH02A\n",
       "VP_018    SB08E\n",
       "VP_019    IE29F\n",
       "VP_020    HR19B\n",
       "VP_021    HW03H\n",
       "VP_022    BT13M\n",
       "VP_023    BS25S\n",
       "VP_024    BH25F\n",
       "VP_025    SR28S\n",
       "VP_026    SG28K\n",
       "VP_027    EM07F\n",
       "VP_028    CS06S\n",
       "VP_029    NW31S\n",
       "VP_030    WS31A\n",
       "VP_031    RS29L\n",
       "VP_032    MO06B\n",
       "VP_033    AK06L\n",
       "VP_034    PH20B\n",
       "VP_035    ND20T\n",
       "VP_036    KB03N\n",
       "VP_037    GH14W\n",
       "VP_038    NS17E\n",
       "VP_039    SS31K\n",
       "VP_040    BA17P\n",
       "VP_041    GL12N\n",
       "VP_042    ST21N\n",
       "VP_043    SM10R\n",
       "VP_044    EW25N\n",
       "Name: VPN_Kennung, dtype: object"
      ]
     },
     "execution_count": 7,
     "metadata": {},
     "output_type": "execute_result"
    }
   ],
   "source": [
    "df1 = pd.read_excel(path_1)\n",
    "df1 = df1.set_index(\"subject\")[\"VPN_Kennung\"]\n",
    "\n",
    "# add zero to index\n",
    "df1.index = \"VP_\" + df1.index.str.split(\"_\").str[1].str.zfill(3) \n",
    "\n",
    "df1"
   ]
  },
  {
   "cell_type": "code",
   "execution_count": 8,
   "metadata": {},
   "outputs": [
    {
     "data": {
      "text/plain": [
       "subject\n",
       "VP_050    MK31E\n",
       "VP_051    CG15E\n",
       "VP_052    MS15N\n",
       "VP_053    MB20N\n",
       "VP_054    LG27N\n",
       "          ...  \n",
       "VP_106    MW11F\n",
       "VP_107    EN09F\n",
       "VP_108    UL28M\n",
       "VP_109    FC25L\n",
       "VP_110    HV01S\n",
       "Name: VPN_Kennung, Length: 61, dtype: object"
      ]
     },
     "execution_count": 8,
     "metadata": {},
     "output_type": "execute_result"
    }
   ],
   "source": [
    "df11 = pd.read_excel(path_11)\n",
    "df11 = df11.set_index(\"subject\")[\"VPN_Kennung\"]\n",
    "df11"
   ]
  },
  {
   "cell_type": "code",
   "execution_count": 9,
   "metadata": {},
   "outputs": [],
   "source": [
    "df_all = pd.concat([df1, df11])\n",
    "df_all = pd.DataFrame(df_all)\n",
    "df_all.columns = [\"Code\"]"
   ]
  },
  {
   "cell_type": "code",
   "execution_count": 10,
   "metadata": {},
   "outputs": [],
   "source": [
    "df_all.to_csv(\"/Volumes/luca_ssd/Study_Data/2022_12_GAPVII_Micro/data_tabular/extras/processed/id_mapping.csv\")"
   ]
  }
 ],
 "metadata": {
  "kernelspec": {
   "display_name": "empkins_d03_preprocessing",
   "language": "python",
   "name": "empkins_d03_preprocessing"
  },
  "language_info": {
   "codemirror_mode": {
    "name": "ipython",
    "version": 3
   },
   "file_extension": ".py",
   "mimetype": "text/x-python",
   "name": "python",
   "nbconvert_exporter": "python",
   "pygments_lexer": "ipython3",
   "version": "3.9.8"
  }
 },
 "nbformat": 4,
 "nbformat_minor": 2
}
