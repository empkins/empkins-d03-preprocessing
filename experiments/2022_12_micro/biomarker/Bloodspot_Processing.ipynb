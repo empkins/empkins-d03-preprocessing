{
 "cells": [
  {
   "cell_type": "markdown",
   "id": "5f638161-775e-4292-977e-0985b9e7533b",
   "metadata": {},
   "source": [
    "# Bloodspot Processing"
   ]
  },
  {
   "cell_type": "code",
   "execution_count": 98,
   "id": "6d785b14-abb7-4b01-89c7-93e3f3d754f1",
   "metadata": {
    "tags": []
   },
   "outputs": [
    {
     "name": "stdout",
     "output_type": "stream",
     "text": [
      "The autoreload extension is already loaded. To reload it, use:\n",
      "  %reload_ext autoreload\n"
     ]
    }
   ],
   "source": [
    "import json\n",
    "import re\n",
    "from pathlib import Path\n",
    "\n",
    "import pandas as pd\n",
    "import numpy as np\n",
    "import pingouin as pg\n",
    "\n",
    "import matplotlib.pyplot as plt\n",
    "import seaborn as sns\n",
    "\n",
    "from fau_colors import cmaps\n",
    "import biopsykit as bp\n",
    "from biopsykit.io import biomarker\n",
    "\n",
    "from empkins_io.datasets.d03.micro_gapvii import MicroBaseDataset\n",
    "\n",
    "%load_ext autoreload\n",
    "%autoreload 2\n",
    "%matplotlib widget"
   ]
  },
  {
   "cell_type": "code",
   "execution_count": 99,
   "id": "8eb25a5a-3758-4273-908f-9102fc493a19",
   "metadata": {
    "tags": []
   },
   "outputs": [
    {
     "data": {
      "text/html": [
       "<svg  width=\"330\" height=\"55\"><rect x=\"0\" y=\"0\" width=\"55\" height=\"55\" style=\"fill:#002f6c;stroke-width:2;stroke:rgb(255,255,255)\"/><rect x=\"55\" y=\"0\" width=\"55\" height=\"55\" style=\"fill:#779fb5;stroke-width:2;stroke:rgb(255,255,255)\"/><rect x=\"110\" y=\"0\" width=\"55\" height=\"55\" style=\"fill:#ffb81c;stroke-width:2;stroke:rgb(255,255,255)\"/><rect x=\"165\" y=\"0\" width=\"55\" height=\"55\" style=\"fill:#00a3e0;stroke-width:2;stroke:rgb(255,255,255)\"/><rect x=\"220\" y=\"0\" width=\"55\" height=\"55\" style=\"fill:#43b02a;stroke-width:2;stroke:rgb(255,255,255)\"/><rect x=\"275\" y=\"0\" width=\"55\" height=\"55\" style=\"fill:#c8102e;stroke-width:2;stroke:rgb(255,255,255)\"/></svg>"
      ],
      "text/plain": [
       "[(0.0, 0.1843137254901961, 0.4235294117647059),\n",
       " (0.4666666666666667, 0.6235294117647059, 0.7098039215686275),\n",
       " (1.0, 0.7215686274509804, 0.10980392156862745),\n",
       " (0.0, 0.6392156862745098, 0.8784313725490196),\n",
       " (0.2627450980392157, 0.6901960784313725, 0.16470588235294117),\n",
       " (0.7843137254901961, 0.06274509803921569, 0.1803921568627451)]"
      ]
     },
     "execution_count": 99,
     "metadata": {},
     "output_type": "execute_result"
    }
   ],
   "source": [
    "plt.close(\"all\")\n",
    "\n",
    "palette = sns.color_palette(cmaps.faculties)\n",
    "sns.set_theme(context=\"notebook\", style=\"ticks\", palette=palette)\n",
    "\n",
    "plt.rcParams[\"figure.figsize\"] = (10, 5)\n",
    "plt.rcParams[\"pdf.fonttype\"] = 42\n",
    "plt.rcParams[\"mathtext.default\"] = \"regular\"\n",
    "\n",
    "palette"
   ]
  },
  {
   "cell_type": "code",
   "execution_count": 100,
   "id": "1e7feaa7-d152-4ca4-90b8-6b4419331241",
   "metadata": {
    "tags": []
   },
   "outputs": [],
   "source": [
    "deploy_type = \"local\""
   ]
  },
  {
   "cell_type": "code",
   "execution_count": 101,
   "id": "d7016885-ae8c-427a-95a1-df14b934e3f5",
   "metadata": {
    "tags": []
   },
   "outputs": [
    {
     "data": {
      "text/plain": [
       "PosixPath('/Volumes/luca_ssd/Study_Data/2022_12_GAPVII_Micro')"
      ]
     },
     "execution_count": 101,
     "metadata": {},
     "output_type": "execute_result"
    }
   ],
   "source": [
    "config_dict = json.load(Path(\"../config.json\").open(encoding=\"utf-8\"))\n",
    "\n",
    "base_path = Path(config_dict[deploy_type][\"base_path\"])\n",
    "base_path"
   ]
  },
  {
   "cell_type": "code",
   "execution_count": 102,
   "id": "693236a6-2c6a-4f8f-81ad-bce258555342",
   "metadata": {
    "tags": []
   },
   "outputs": [],
   "source": [
    "path_out = base_path.joinpath(\"data_tabular/bloodspots/final\")\n",
    "bp.utils.file_handling.mkdirs([path_out])"
   ]
  },
  {
   "cell_type": "code",
   "execution_count": 103,
   "id": "9e0df28b-6445-45ee-ae14-15174f249f72",
   "metadata": {
    "tags": []
   },
   "outputs": [
    {
     "data": {
      "text/html": [
       "<h4 style=\"margin-bottom: 0.1em;\">MicroBaseDataset [1696 groups/rows]</h3>\n",
       "<div style=\"margin-top: 0em\">\n",
       "<style scoped>\n",
       "    .dataframe tbody tr th:only-of-type {\n",
       "        vertical-align: middle;\n",
       "    }\n",
       "\n",
       "    .dataframe tbody tr th {\n",
       "        vertical-align: top;\n",
       "    }\n",
       "\n",
       "    .dataframe thead th {\n",
       "        text-align: right;\n",
       "    }\n",
       "</style>\n",
       "<table style=\"margin-left: 3em;\">\n",
       "  <thead>\n",
       "    <tr style=\"text-align: right;\">\n",
       "      <th style=\"text-align: center;\"></th>\n",
       "      <th style=\"text-align: center;\">subject</th>\n",
       "      <th style=\"text-align: center;\">condition</th>\n",
       "      <th style=\"text-align: center;\">phase</th>\n",
       "    </tr>\n",
       "  </thead>\n",
       "  <tbody>\n",
       "    <tr>\n",
       "      <th style=\"text-align: center;\">0</th>\n",
       "      <td style=\"text-align: center; padding-left: 2em; padding-right: 2em;\">VP_001</td>\n",
       "      <td style=\"text-align: center; padding-left: 2em; padding-right: 2em;\">tsst</td>\n",
       "      <td style=\"text-align: center; padding-left: 2em; padding-right: 2em;\">Prep</td>\n",
       "    </tr>\n",
       "    <tr>\n",
       "      <th style=\"text-align: center;\">1</th>\n",
       "      <td style=\"text-align: center; padding-left: 2em; padding-right: 2em;\">VP_001</td>\n",
       "      <td style=\"text-align: center; padding-left: 2em; padding-right: 2em;\">tsst</td>\n",
       "      <td style=\"text-align: center; padding-left: 2em; padding-right: 2em;\">Pause_1</td>\n",
       "    </tr>\n",
       "    <tr>\n",
       "      <th style=\"text-align: center;\">2</th>\n",
       "      <td style=\"text-align: center; padding-left: 2em; padding-right: 2em;\">VP_001</td>\n",
       "      <td style=\"text-align: center; padding-left: 2em; padding-right: 2em;\">tsst</td>\n",
       "      <td style=\"text-align: center; padding-left: 2em; padding-right: 2em;\">Talk</td>\n",
       "    </tr>\n",
       "    <tr>\n",
       "      <th style=\"text-align: center;\">3</th>\n",
       "      <td style=\"text-align: center; padding-left: 2em; padding-right: 2em;\">VP_001</td>\n",
       "      <td style=\"text-align: center; padding-left: 2em; padding-right: 2em;\">tsst</td>\n",
       "      <td style=\"text-align: center; padding-left: 2em; padding-right: 2em;\">Pause_2</td>\n",
       "    </tr>\n",
       "    <tr>\n",
       "      <th style=\"text-align: center;\">4</th>\n",
       "      <td style=\"text-align: center; padding-left: 2em; padding-right: 2em;\">VP_001</td>\n",
       "      <td style=\"text-align: center; padding-left: 2em; padding-right: 2em;\">tsst</td>\n",
       "      <td style=\"text-align: center; padding-left: 2em; padding-right: 2em;\">Pause_3</td>\n",
       "    </tr>\n",
       "    <tr>\n",
       "      <th style=\"text-align: center;\">...</th>\n",
       "      <td style=\"text-align: center; padding-left: 2em; padding-right: 2em;\">...</td>\n",
       "      <td style=\"text-align: center; padding-left: 2em; padding-right: 2em;\">...</td>\n",
       "      <td style=\"text-align: center; padding-left: 2em; padding-right: 2em;\">...</td>\n",
       "    </tr>\n",
       "    <tr>\n",
       "      <th style=\"text-align: center;\">1691</th>\n",
       "      <td style=\"text-align: center; padding-left: 2em; padding-right: 2em;\">VP_110</td>\n",
       "      <td style=\"text-align: center; padding-left: 2em; padding-right: 2em;\">ftsst</td>\n",
       "      <td style=\"text-align: center; padding-left: 2em; padding-right: 2em;\">Pause_2</td>\n",
       "    </tr>\n",
       "    <tr>\n",
       "      <th style=\"text-align: center;\">1692</th>\n",
       "      <td style=\"text-align: center; padding-left: 2em; padding-right: 2em;\">VP_110</td>\n",
       "      <td style=\"text-align: center; padding-left: 2em; padding-right: 2em;\">ftsst</td>\n",
       "      <td style=\"text-align: center; padding-left: 2em; padding-right: 2em;\">Pause_3</td>\n",
       "    </tr>\n",
       "    <tr>\n",
       "      <th style=\"text-align: center;\">1693</th>\n",
       "      <td style=\"text-align: center; padding-left: 2em; padding-right: 2em;\">VP_110</td>\n",
       "      <td style=\"text-align: center; padding-left: 2em; padding-right: 2em;\">ftsst</td>\n",
       "      <td style=\"text-align: center; padding-left: 2em; padding-right: 2em;\">Math</td>\n",
       "    </tr>\n",
       "    <tr>\n",
       "      <th style=\"text-align: center;\">1694</th>\n",
       "      <td style=\"text-align: center; padding-left: 2em; padding-right: 2em;\">VP_110</td>\n",
       "      <td style=\"text-align: center; padding-left: 2em; padding-right: 2em;\">ftsst</td>\n",
       "      <td style=\"text-align: center; padding-left: 2em; padding-right: 2em;\">Pause_4</td>\n",
       "    </tr>\n",
       "    <tr>\n",
       "      <th style=\"text-align: center;\">1695</th>\n",
       "      <td style=\"text-align: center; padding-left: 2em; padding-right: 2em;\">VP_110</td>\n",
       "      <td style=\"text-align: center; padding-left: 2em; padding-right: 2em;\">ftsst</td>\n",
       "      <td style=\"text-align: center; padding-left: 2em; padding-right: 2em;\">Pause_5</td>\n",
       "    </tr>\n",
       "  </tbody>\n",
       "</table>\n",
       "<p>1696 rows × 3 columns</p>\n",
       "</div>"
      ],
      "text/plain": [
       "MicroBaseDataset [1696 groups/rows]\n",
       "\n",
       "        subject condition    phase\n",
       "   0     VP_001      tsst     Prep\n",
       "   1     VP_001      tsst  Pause_1\n",
       "   2     VP_001      tsst     Talk\n",
       "   3     VP_001      tsst  Pause_2\n",
       "   4     VP_001      tsst  Pause_3\n",
       "   ...      ...       ...      ...\n",
       "   1691  VP_110     ftsst  Pause_2\n",
       "   1692  VP_110     ftsst  Pause_3\n",
       "   1693  VP_110     ftsst     Math\n",
       "   1694  VP_110     ftsst  Pause_4\n",
       "   1695  VP_110     ftsst  Pause_5\n",
       "   \n",
       "   [1696 rows x 3 columns]"
      ]
     },
     "execution_count": 103,
     "metadata": {},
     "output_type": "execute_result"
    }
   ],
   "source": [
    "dataset = MicroBaseDataset(base_path)\n",
    "dataset"
   ]
  },
  {
   "cell_type": "markdown",
   "id": "50ca0ff0-594f-4026-b216-75d89028a9bd",
   "metadata": {},
   "source": [
    "## CRP"
   ]
  },
  {
   "cell_type": "markdown",
   "id": "f741ce0a-6007-49ae-bdfc-502fab7efd39",
   "metadata": {},
   "source": [
    "### Samples"
   ]
  },
  {
   "cell_type": "code",
   "execution_count": 104,
   "id": "79705e08-5eb6-4127-8dd4-14de0c8b2c78",
   "metadata": {
    "tags": []
   },
   "outputs": [],
   "source": [
    "crp_data_1_0 = bp.io.biomarker.load_biomarker_results(\n",
    "    base_path.joinpath(\"data_tabular/bloodspots/cleaned/crp_values_1_0.xlsx\"), biomarker_type=\"crp\", regex_str=r\"(VP_\\d+)_(T\\w)_(B\\w)\"\n",
    ")\n",
    "\n",
    "crp_data_1_1 = bp.io.biomarker.load_biomarker_results(base_path.joinpath(\"data_tabular/bloodspots/cleaned/crp_values_1_1.xlsx\"), biomarker_type=\"crp\", regex_str=r\"EmpD03micro_(VP_\\d+)_(D\\w)_(B\\w)\")"
   ]
  },
  {
   "cell_type": "code",
   "execution_count": 105,
   "id": "86dc9bf5",
   "metadata": {},
   "outputs": [
    {
     "data": {
      "text/html": [
       "<div>\n",
       "<style scoped>\n",
       "    .dataframe tbody tr th:only-of-type {\n",
       "        vertical-align: middle;\n",
       "    }\n",
       "\n",
       "    .dataframe tbody tr th {\n",
       "        vertical-align: top;\n",
       "    }\n",
       "\n",
       "    .dataframe thead th {\n",
       "        text-align: right;\n",
       "    }\n",
       "</style>\n",
       "<table border=\"1\" class=\"dataframe\">\n",
       "  <thead>\n",
       "    <tr style=\"text-align: right;\">\n",
       "      <th></th>\n",
       "      <th></th>\n",
       "      <th></th>\n",
       "      <th>crp</th>\n",
       "    </tr>\n",
       "    <tr>\n",
       "      <th>subject</th>\n",
       "      <th>day</th>\n",
       "      <th>sample</th>\n",
       "      <th></th>\n",
       "    </tr>\n",
       "  </thead>\n",
       "  <tbody>\n",
       "    <tr>\n",
       "      <th rowspan=\"4\" valign=\"top\">VP_01</th>\n",
       "      <th rowspan=\"2\" valign=\"top\">T1</th>\n",
       "      <th>B0</th>\n",
       "      <td>1.317150</td>\n",
       "    </tr>\n",
       "    <tr>\n",
       "      <th>B1</th>\n",
       "      <td>1.134765</td>\n",
       "    </tr>\n",
       "    <tr>\n",
       "      <th rowspan=\"2\" valign=\"top\">T2</th>\n",
       "      <th>B0</th>\n",
       "      <td>1.354440</td>\n",
       "    </tr>\n",
       "    <tr>\n",
       "      <th>B1</th>\n",
       "      <td>1.227120</td>\n",
       "    </tr>\n",
       "    <tr>\n",
       "      <th>VP_02</th>\n",
       "      <th>T1</th>\n",
       "      <th>B0</th>\n",
       "      <td>0.857475</td>\n",
       "    </tr>\n",
       "    <tr>\n",
       "      <th>...</th>\n",
       "      <th>...</th>\n",
       "      <th>...</th>\n",
       "      <td>...</td>\n",
       "    </tr>\n",
       "    <tr>\n",
       "      <th rowspan=\"3\" valign=\"top\">VP_40</th>\n",
       "      <th>T1</th>\n",
       "      <th>B1</th>\n",
       "      <td>NaN</td>\n",
       "    </tr>\n",
       "    <tr>\n",
       "      <th rowspan=\"2\" valign=\"top\">T2</th>\n",
       "      <th>B0</th>\n",
       "      <td>NaN</td>\n",
       "    </tr>\n",
       "    <tr>\n",
       "      <th>B1</th>\n",
       "      <td>NaN</td>\n",
       "    </tr>\n",
       "    <tr>\n",
       "      <th rowspan=\"2\" valign=\"top\">VP_44</th>\n",
       "      <th rowspan=\"2\" valign=\"top\">T2</th>\n",
       "      <th>B0</th>\n",
       "      <td>NaN</td>\n",
       "    </tr>\n",
       "    <tr>\n",
       "      <th>B1</th>\n",
       "      <td>NaN</td>\n",
       "    </tr>\n",
       "  </tbody>\n",
       "</table>\n",
       "<p>180 rows × 1 columns</p>\n",
       "</div>"
      ],
      "text/plain": [
       "                         crp\n",
       "subject day sample          \n",
       "VP_01   T1  B0      1.317150\n",
       "            B1      1.134765\n",
       "        T2  B0      1.354440\n",
       "            B1      1.227120\n",
       "VP_02   T1  B0      0.857475\n",
       "...                      ...\n",
       "VP_40   T1  B1           NaN\n",
       "        T2  B0           NaN\n",
       "            B1           NaN\n",
       "VP_44   T2  B0           NaN\n",
       "            B1           NaN\n",
       "\n",
       "[180 rows x 1 columns]"
      ]
     },
     "execution_count": 105,
     "metadata": {},
     "output_type": "execute_result"
    }
   ],
   "source": [
    "crp_data_1_0"
   ]
  },
  {
   "cell_type": "code",
   "execution_count": 106,
   "id": "a5f2c0c8",
   "metadata": {},
   "outputs": [],
   "source": [
    "crp_data = pd.concat([crp_data_1_0, crp_data_1_1])"
   ]
  },
  {
   "cell_type": "code",
   "execution_count": 107,
   "id": "44464992",
   "metadata": {},
   "outputs": [
    {
     "data": {
      "text/html": [
       "<div>\n",
       "<style scoped>\n",
       "    .dataframe tbody tr th:only-of-type {\n",
       "        vertical-align: middle;\n",
       "    }\n",
       "\n",
       "    .dataframe tbody tr th {\n",
       "        vertical-align: top;\n",
       "    }\n",
       "\n",
       "    .dataframe thead th {\n",
       "        text-align: right;\n",
       "    }\n",
       "</style>\n",
       "<table border=\"1\" class=\"dataframe\">\n",
       "  <thead>\n",
       "    <tr style=\"text-align: right;\">\n",
       "      <th></th>\n",
       "      <th></th>\n",
       "      <th></th>\n",
       "      <th>crp</th>\n",
       "    </tr>\n",
       "    <tr>\n",
       "      <th>subject</th>\n",
       "      <th>condition</th>\n",
       "      <th>sample</th>\n",
       "      <th></th>\n",
       "    </tr>\n",
       "  </thead>\n",
       "  <tbody>\n",
       "    <tr>\n",
       "      <th rowspan=\"4\" valign=\"top\">VP_001</th>\n",
       "      <th rowspan=\"2\" valign=\"top\">ftsst</th>\n",
       "      <th>B0</th>\n",
       "      <td>1.317150</td>\n",
       "    </tr>\n",
       "    <tr>\n",
       "      <th>B1</th>\n",
       "      <td>1.134765</td>\n",
       "    </tr>\n",
       "    <tr>\n",
       "      <th rowspan=\"2\" valign=\"top\">tsst</th>\n",
       "      <th>B0</th>\n",
       "      <td>1.354440</td>\n",
       "    </tr>\n",
       "    <tr>\n",
       "      <th>B1</th>\n",
       "      <td>1.227120</td>\n",
       "    </tr>\n",
       "    <tr>\n",
       "      <th>VP_002</th>\n",
       "      <th>ftsst</th>\n",
       "      <th>B0</th>\n",
       "      <td>0.857475</td>\n",
       "    </tr>\n",
       "    <tr>\n",
       "      <th>...</th>\n",
       "      <th>...</th>\n",
       "      <th>...</th>\n",
       "      <td>...</td>\n",
       "    </tr>\n",
       "    <tr>\n",
       "      <th>VP_109</th>\n",
       "      <th>ftsst</th>\n",
       "      <th>B1</th>\n",
       "      <td>0.202440</td>\n",
       "    </tr>\n",
       "    <tr>\n",
       "      <th rowspan=\"4\" valign=\"top\">VP_110</th>\n",
       "      <th rowspan=\"2\" valign=\"top\">ftsst</th>\n",
       "      <th>B0</th>\n",
       "      <td>0.130809</td>\n",
       "    </tr>\n",
       "    <tr>\n",
       "      <th>B1</th>\n",
       "      <td>0.135434</td>\n",
       "    </tr>\n",
       "    <tr>\n",
       "      <th rowspan=\"2\" valign=\"top\">tsst</th>\n",
       "      <th>B0</th>\n",
       "      <td>0.144998</td>\n",
       "    </tr>\n",
       "    <tr>\n",
       "      <th>B1</th>\n",
       "      <td>0.265960</td>\n",
       "    </tr>\n",
       "  </tbody>\n",
       "</table>\n",
       "<p>414 rows × 1 columns</p>\n",
       "</div>"
      ],
      "text/plain": [
       "                               crp\n",
       "subject condition sample          \n",
       "VP_001  ftsst     B0      1.317150\n",
       "                  B1      1.134765\n",
       "        tsst      B0      1.354440\n",
       "                  B1      1.227120\n",
       "VP_002  ftsst     B0      0.857475\n",
       "...                            ...\n",
       "VP_109  ftsst     B1      0.202440\n",
       "VP_110  ftsst     B0      0.130809\n",
       "                  B1      0.135434\n",
       "        tsst      B0      0.144998\n",
       "                  B1      0.265960\n",
       "\n",
       "[414 rows x 1 columns]"
      ]
     },
     "execution_count": 107,
     "metadata": {},
     "output_type": "execute_result"
    }
   ],
   "source": [
    "crp_data = crp_data.reset_index().replace({\"D1\": \"T1\", \"D2\" : \"T2\"})\n",
    "\n",
    "# add zeros to get 3 digits\n",
    "crp_data[\"subject\"] = \"VP_\" + crp_data[\"subject\"].str.split(\"_\").str[1].str.zfill(3)\n",
    "\n",
    "# drop na in subject\n",
    "crp_data = crp_data.dropna(subset=[\"subject\"])\n",
    "\n",
    "crp_data = crp_data.set_index([\"subject\", \"day\", \"sample\"])\n",
    "\n",
    "crp_data = crp_data.join(dataset.condition_day_mapping).reset_index()\n",
    "crp_data = crp_data.drop(columns=\"day\").set_index([\"subject\", \"condition\", \"sample\"])\n",
    "crp_data"
   ]
  },
  {
   "cell_type": "code",
   "execution_count": 108,
   "id": "e20fc7b0",
   "metadata": {},
   "outputs": [],
   "source": [
    "# wide format\n",
    "crp_data = crp_data.pivot_table(index=\"subject\", columns=[\"condition\", \"sample\"], values=\"crp\")"
   ]
  },
  {
   "cell_type": "code",
   "execution_count": 109,
   "id": "f028b40f",
   "metadata": {},
   "outputs": [],
   "source": [
    "# squeeze multiindex\n",
    "crp_data.columns = [f\"{col[1]}_{col[0]}\" for col in crp_data.columns]"
   ]
  },
  {
   "cell_type": "code",
   "execution_count": 110,
   "id": "8c438081",
   "metadata": {},
   "outputs": [],
   "source": [
    "crp_data = crp_data.add_prefix(\"crp_\")"
   ]
  },
  {
   "cell_type": "code",
   "execution_count": 111,
   "id": "a83d804f",
   "metadata": {},
   "outputs": [
    {
     "data": {
      "text/html": [
       "<div>\n",
       "<style scoped>\n",
       "    .dataframe tbody tr th:only-of-type {\n",
       "        vertical-align: middle;\n",
       "    }\n",
       "\n",
       "    .dataframe tbody tr th {\n",
       "        vertical-align: top;\n",
       "    }\n",
       "\n",
       "    .dataframe thead th {\n",
       "        text-align: right;\n",
       "    }\n",
       "</style>\n",
       "<table border=\"1\" class=\"dataframe\">\n",
       "  <thead>\n",
       "    <tr style=\"text-align: right;\">\n",
       "      <th></th>\n",
       "      <th>crp_B0_ftsst</th>\n",
       "      <th>crp_B1_ftsst</th>\n",
       "      <th>crp_B0_tsst</th>\n",
       "      <th>crp_B1_tsst</th>\n",
       "    </tr>\n",
       "    <tr>\n",
       "      <th>subject</th>\n",
       "      <th></th>\n",
       "      <th></th>\n",
       "      <th></th>\n",
       "      <th></th>\n",
       "    </tr>\n",
       "  </thead>\n",
       "  <tbody>\n",
       "    <tr>\n",
       "      <th>VP_001</th>\n",
       "      <td>1.317150</td>\n",
       "      <td>1.134765</td>\n",
       "      <td>1.354440</td>\n",
       "      <td>1.227120</td>\n",
       "    </tr>\n",
       "    <tr>\n",
       "      <th>VP_002</th>\n",
       "      <td>0.857475</td>\n",
       "      <td>1.040430</td>\n",
       "      <td>1.259580</td>\n",
       "      <td>1.434495</td>\n",
       "    </tr>\n",
       "    <tr>\n",
       "      <th>VP_003</th>\n",
       "      <td>0.337380</td>\n",
       "      <td>0.295342</td>\n",
       "      <td>0.311038</td>\n",
       "      <td>0.302088</td>\n",
       "    </tr>\n",
       "    <tr>\n",
       "      <th>VP_004</th>\n",
       "      <td>0.678855</td>\n",
       "      <td>0.988515</td>\n",
       "      <td>0.728970</td>\n",
       "      <td>0.545085</td>\n",
       "    </tr>\n",
       "    <tr>\n",
       "      <th>VP_005</th>\n",
       "      <td>0.541875</td>\n",
       "      <td>0.616560</td>\n",
       "      <td>0.583320</td>\n",
       "      <td>0.533710</td>\n",
       "    </tr>\n",
       "    <tr>\n",
       "      <th>...</th>\n",
       "      <td>...</td>\n",
       "      <td>...</td>\n",
       "      <td>...</td>\n",
       "      <td>...</td>\n",
       "    </tr>\n",
       "    <tr>\n",
       "      <th>VP_106</th>\n",
       "      <td>1.262130</td>\n",
       "      <td>0.992715</td>\n",
       "      <td>1.311870</td>\n",
       "      <td>1.359030</td>\n",
       "    </tr>\n",
       "    <tr>\n",
       "      <th>VP_107</th>\n",
       "      <td>0.729345</td>\n",
       "      <td>1.003455</td>\n",
       "      <td>0.390000</td>\n",
       "      <td>0.771015</td>\n",
       "    </tr>\n",
       "    <tr>\n",
       "      <th>VP_108</th>\n",
       "      <td>2.658090</td>\n",
       "      <td>2.438895</td>\n",
       "      <td>2.164440</td>\n",
       "      <td>2.402655</td>\n",
       "    </tr>\n",
       "    <tr>\n",
       "      <th>VP_109</th>\n",
       "      <td>0.150351</td>\n",
       "      <td>0.202440</td>\n",
       "      <td>0.111384</td>\n",
       "      <td>0.394792</td>\n",
       "    </tr>\n",
       "    <tr>\n",
       "      <th>VP_110</th>\n",
       "      <td>0.130809</td>\n",
       "      <td>0.135434</td>\n",
       "      <td>0.144998</td>\n",
       "      <td>0.265960</td>\n",
       "    </tr>\n",
       "  </tbody>\n",
       "</table>\n",
       "<p>99 rows × 4 columns</p>\n",
       "</div>"
      ],
      "text/plain": [
       "         crp_B0_ftsst  crp_B1_ftsst  crp_B0_tsst  crp_B1_tsst\n",
       "subject                                                      \n",
       "VP_001       1.317150      1.134765     1.354440     1.227120\n",
       "VP_002       0.857475      1.040430     1.259580     1.434495\n",
       "VP_003       0.337380      0.295342     0.311038     0.302088\n",
       "VP_004       0.678855      0.988515     0.728970     0.545085\n",
       "VP_005       0.541875      0.616560     0.583320     0.533710\n",
       "...               ...           ...          ...          ...\n",
       "VP_106       1.262130      0.992715     1.311870     1.359030\n",
       "VP_107       0.729345      1.003455     0.390000     0.771015\n",
       "VP_108       2.658090      2.438895     2.164440     2.402655\n",
       "VP_109       0.150351      0.202440     0.111384     0.394792\n",
       "VP_110       0.130809      0.135434     0.144998     0.265960\n",
       "\n",
       "[99 rows x 4 columns]"
      ]
     },
     "execution_count": 111,
     "metadata": {},
     "output_type": "execute_result"
    }
   ],
   "source": [
    "crp_data"
   ]
  },
  {
   "cell_type": "code",
   "execution_count": 112,
   "id": "0a8865be-d629-4a0f-b675-5d9001dc65dc",
   "metadata": {
    "tags": []
   },
   "outputs": [],
   "source": [
    "crp_data.to_csv(path_out.joinpath(\"crp.csv\"))"
   ]
  }
 ],
 "metadata": {
  "kernelspec": {
   "display_name": "empkins_d03_preprocessing",
   "language": "python",
   "name": "empkins_d03_preprocessing"
  },
  "language_info": {
   "codemirror_mode": {
    "name": "ipython",
    "version": 3
   },
   "file_extension": ".py",
   "mimetype": "text/x-python",
   "name": "python",
   "nbconvert_exporter": "python",
   "pygments_lexer": "ipython3",
   "version": "3.9.8"
  }
 },
 "nbformat": 4,
 "nbformat_minor": 5
}
